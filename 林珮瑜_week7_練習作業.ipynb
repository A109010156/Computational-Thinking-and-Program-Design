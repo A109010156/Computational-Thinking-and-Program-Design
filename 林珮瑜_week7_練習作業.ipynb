{
  "nbformat": 4,
  "nbformat_minor": 0,
  "metadata": {
    "colab": {
      "name": "林珮瑜_week7_練習作業.ipynb",
      "provenance": [],
      "authorship_tag": "ABX9TyOgmHmj7Usf+Vr1xxcmeWhN",
      "include_colab_link": true
    },
    "kernelspec": {
      "name": "python3",
      "display_name": "Python 3"
    },
    "language_info": {
      "name": "python"
    }
  },
  "cells": [
    {
      "cell_type": "markdown",
      "metadata": {
        "id": "view-in-github",
        "colab_type": "text"
      },
      "source": [
        "<a href=\"https://colab.research.google.com/github/A109010156/Computational-Thinking-and-Program-Design/blob/main/%E6%9E%97%E7%8F%AE%E7%91%9C_week7_%E7%B7%B4%E7%BF%92%E4%BD%9C%E6%A5%AD.ipynb\" target=\"_parent\"><img src=\"https://colab.research.google.com/assets/colab-badge.svg\" alt=\"Open In Colab\"/></a>"
      ]
    },
    {
      "cell_type": "code",
      "metadata": {
        "colab": {
          "base_uri": "https://localhost:8080/"
        },
        "id": "7Gad8B5SYnqQ",
        "outputId": "8aad8c70-86f5-4af8-d6c5-d880f12b285f"
      },
      "source": [
        " ## Input\n",
        " a = 13\n",
        " b = 11\n",
        " ## Process\n",
        " t = a\n",
        " a = b\n",
        " b = t\n",
        " ## Output\n",
        " print(\"a=\",a,\"b=\", b)\n"
      ],
      "execution_count": 3,
      "outputs": [
        {
          "output_type": "stream",
          "text": [
            "a= 11 b= 13\n"
          ],
          "name": "stdout"
        }
      ]
    },
    {
      "cell_type": "code",
      "metadata": {
        "colab": {
          "base_uri": "https://localhost:8080/",
          "height": 133
        },
        "id": "A6cPV1kGcPwQ",
        "outputId": "60ea1c17-5c10-4246-8bde-0b1a61702eb8"
      },
      "source": [
        "## Input\n",
        "a = int(input(\"Enter a number\"))\n",
        "b = int (input(\"Enter a number\"))\n",
        "\n",
        "c = int(input(\"Enter a number\"))\n",
        "d = int (input(\"Enter a number\"))\n",
        "\n",
        "e= int(input(\"Enter a number\"))\n",
        "f = int (input(\"Enter a number\"))\n",
        "\n",
        "## Process\n",
        "a = a//3\n",
        "b= b+a\n",
        "f= f+a\n",
        "print(f\"a={a} b={b} c= {c} d={d) e={e} f={f}\"\n",
        "\n",
        "b = b//3\n",
        "a =a +b \n",
        "c =c +b\n",
        "print(f\"a={a} b={b} c= {c} d={d) e={e} f={f}\"\n",
        "\n",
        "c = c//3 ; b =b+c  ; d=d=c\n",
        "\n",
        "print(f\"a={a} b={b} c= {c} d={d) e={e} f={f}\"\n"
      ],
      "execution_count": 10,
      "outputs": [
        {
          "output_type": "error",
          "ename": "SyntaxError",
          "evalue": "ignored",
          "traceback": [
            "\u001b[0;36m  File \u001b[0;32m\"<ipython-input-10-cf31a48ad783>\"\u001b[0;36m, line \u001b[0;32m17\u001b[0m\n\u001b[0;31m    b = b//3\u001b[0m\n\u001b[0m    ^\u001b[0m\n\u001b[0;31mSyntaxError\u001b[0m\u001b[0;31m:\u001b[0m invalid syntax\n"
          ]
        }
      ]
    },
    {
      "cell_type": "code",
      "metadata": {
        "colab": {
          "base_uri": "https://localhost:8080/",
          "height": 133
        },
        "id": "fiX2zsl_kbhE",
        "outputId": "cc5f1553-a216-4c66-8552-50bfdf871402"
      },
      "source": [
        "In[1] ## Total = P1*Q1 + P2*Q2 + P3*Q3\n",
        "## Input Data\n",
        "cloth = int(input(\"請輸入上衣數量?\"))\n",
        "trousers = int (input(\"請輸入褲子數量?\"))\n",
        "vest = int(input(\"請輸入背心數量?\"))\n",
        "## Process \n",
        "total = cloth *300 + trousers*350 + vest *400\n",
        "\n",
        "## Output\n",
        " print('訂購服裝的總金額為'，total)"
      ],
      "execution_count": 12,
      "outputs": [
        {
          "output_type": "error",
          "ename": "IndentationError",
          "evalue": "ignored",
          "traceback": [
            "\u001b[0;36m  File \u001b[0;32m\"<ipython-input-12-21bb83a31487>\"\u001b[0;36m, line \u001b[0;32m10\u001b[0m\n\u001b[0;31m    print('訂購服裝的總金額為'，total)\u001b[0m\n\u001b[0m    ^\u001b[0m\n\u001b[0;31mIndentationError\u001b[0m\u001b[0;31m:\u001b[0m unexpected indent\n"
          ]
        }
      ]
    },
    {
      "cell_type": "code",
      "metadata": {
        "colab": {
          "base_uri": "https://localhost:8080/"
        },
        "id": "wJhGFxKcmZbz",
        "outputId": "4f1068ca-e0ed-41f6-b1bc-e819db7590c2"
      },
      "source": [
        "In [1]: ## Total = 200 * 幾打 ＋ 20 ＊ 罐\n",
        " ## Input Data\n",
        "cans = int(input('請輸入購買飲料的罐數？')) #數字轉文字\n",
        "## Process\n",
        "total = (cans//12)*200 + (cans%12)*20\n",
        "## Output\n",
        "print('需花費', total)"
      ],
      "execution_count": 14,
      "outputs": [
        {
          "output_type": "stream",
          "text": [
            "請輸入購買飲料的罐數？5\n",
            "需花費 100\n"
          ],
          "name": "stdout"
        }
      ]
    },
    {
      "cell_type": "code",
      "metadata": {
        "id": "S-sYbnu0moQ_"
      },
      "source": [
        "In [1]: ## 計算三次成績的總和與平均\n",
        " ## Input Data\n",
        "first = int(input('請輸入第一次期中考成績？'))\n",
        "second = int(input('請輸入第二次期中考成績？'))\n",
        "final = int(input('請輸入期末考成績？'))\n",
        "## Process\n",
        "sum = first + second + final\n",
        "average = sum/3\n",
        "## Output\n",
        "print('總分為', sum, '平均為', average)\n"
      ],
      "execution_count": null,
      "outputs": []
    }
  ]
}