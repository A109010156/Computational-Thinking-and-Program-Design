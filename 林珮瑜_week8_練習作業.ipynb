{
  "nbformat": 4,
  "nbformat_minor": 0,
  "metadata": {
    "colab": {
      "name": "林珮瑜-week8-練習作業.ipynb",
      "provenance": [],
      "authorship_tag": "ABX9TyPMohnOwYWitU44rhXblIHK",
      "include_colab_link": true
    },
    "kernelspec": {
      "name": "python3",
      "display_name": "Python 3"
    },
    "language_info": {
      "name": "python"
    }
  },
  "cells": [
    {
      "cell_type": "markdown",
      "metadata": {
        "id": "view-in-github",
        "colab_type": "text"
      },
      "source": [
        "<a href=\"https://colab.research.google.com/github/A109010156/Computational-Thinking-and-Program-Design/blob/main/%E6%9E%97%E7%8F%AE%E7%91%9C_week8_%E7%B7%B4%E7%BF%92%E4%BD%9C%E6%A5%AD.ipynb\" target=\"_parent\"><img src=\"https://colab.research.google.com/assets/colab-badge.svg\" alt=\"Open In Colab\"/></a>"
      ]
    },
    {
      "cell_type": "code",
      "metadata": {
        "colab": {
          "base_uri": "https://localhost:8080/",
          "height": 135
        },
        "id": "SP6TDt7FiCbH",
        "outputId": "fd9c6f9d-d605-42a6-994c-d1ddb880c79b"
      },
      "source": [
        "In [1]: ## Total = P1*Q1 + P2*Q2 + P3*Q3\n",
        " ## Input Data\n",
        "cloth = int(input('請輸入上衣數量？'))\n",
        "trousers = int(input('請輸入褲子數量？'))\n",
        " vest = int(input('請輸入背心數量？'))\n",
        "## Process\n",
        "total = cloth*300 + trousers*350 + vest*400\n",
        "## Output\n",
        "print('訂購服裝的總金額為', total)\n",
        "\n"
      ],
      "execution_count": 1,
      "outputs": [
        {
          "output_type": "error",
          "ename": "SyntaxError",
          "evalue": "ignored",
          "traceback": [
            "\u001b[0;36m  File \u001b[0;32m\"<ipython-input-1-247b9479e55c>\"\u001b[0;36m, line \u001b[0;32m11\u001b[0m\n\u001b[0;31m    請輸入上衣數量? 10\u001b[0m\n\u001b[0m           ^\u001b[0m\n\u001b[0;31mSyntaxError\u001b[0m\u001b[0;31m:\u001b[0m invalid syntax\n"
          ]
        }
      ]
    },
    {
      "cell_type": "code",
      "metadata": {
        "id": "6CGUvjD1iF0O"
      },
      "source": [
        "## Input\n",
        "a,b,c,d,e,\n",
        "f = eval(input(\"Enter a number\"))\n",
        "\n",
        "## Process + Output\n",
        "a = a//3 ; b = b + a ; f = f + a\n",
        "print(f\"a = {a}, b = {b} c = {c} d = {d} e = {e} f = {f}\")\n",
        "\n",
        "b = b//3 ; a = a + b ; c = c + b\n",
        "print(f\"a = {a}, b = {b} c = {c} d = {d} e = {e} f = {f}\")\n",
        "\n",
        "c = c//3 ; b = b + c ; d = d + c\n",
        "print(f\"a = {a} b = {b} c = {c} d = {d} e = {e} f = {f}\")\n"
      ],
      "execution_count": null,
      "outputs": []
    },
    {
      "cell_type": "code",
      "metadata": {
        "colab": {
          "base_uri": "https://localhost:8080/"
        },
        "id": "fsl2aBjdiMiW",
        "outputId": "b75c03f3-49f7-42f2-f3ca-379aebe42ae9"
      },
      "source": [
        "In [1]: ## Total = 200 * 幾打 + 20 * 罐\n",
        "...: ## Input Data\n",
        "...: cans = int(input('請輸入購買飲料的罐數?')) #數字轉文字\n",
        "...: ## Process\n",
        "...: total = (cans//12)*200 + (cans%12)*20\n",
        "...: ## Output\n",
        "...: print('需花費', total)\n"
      ],
      "execution_count": 3,
      "outputs": [
        {
          "output_type": "stream",
          "text": [
            "請輸入購買飲料的罐數?5\n",
            "需花費 100\n"
          ],
          "name": "stdout"
        }
      ]
    },
    {
      "cell_type": "code",
      "metadata": {
        "id": "qpcZmdtsiQYP"
      },
      "source": [
        "# 求三數總和與平均\n",
        "## Input\n",
        "x,y,z = eval(input(\"Enter your score\" ))\n",
        "\n",
        "## Process\n",
        "Sum = x + y + z\n",
        "Average = Sum /3\n",
        "\n",
        "## Output\n",
        "print(f\"score sum is {Sum} and average score is{Average}.\") "
      ],
      "execution_count": null,
      "outputs": []
    },
    {
      "cell_type": "code",
      "metadata": {
        "colab": {
          "base_uri": "https://localhost:8080/",
          "height": 135
        },
        "id": "QszXLCNiiYnu",
        "outputId": "7c92c763-fdda-47cf-eeb8-27809d347ae1"
      },
      "source": [
        "In [1]: player_name = input(\"請輸入球員姓名:\")\n",
        " player_height = input(\"請輸入球員身高(cm):\")\n",
        " player_weight = input(\"請輸入球員體重(kg):\")\n",
        "\n",
        "player_height = float(player_height)\n",
        "player_weight = float(player_weight)\n",
        "player_bmi = player_weight/(player_height*0.01)**2\n",
        "\n",
        "print(\"{}的身體質量指數為:{:.2f}\".format(player_name, player_bmi))\n",
        "print(player_name,'的身體質量指數為', player_bmi )\n"
      ],
      "execution_count": 2,
      "outputs": [
        {
          "output_type": "error",
          "ename": "IndentationError",
          "evalue": "ignored",
          "traceback": [
            "\u001b[0;36m  File \u001b[0;32m\"<ipython-input-2-7b60114a717a>\"\u001b[0;36m, line \u001b[0;32m2\u001b[0m\n\u001b[0;31m    player_height = input(\"請輸入球員身高(cm):\")\u001b[0m\n\u001b[0m    ^\u001b[0m\n\u001b[0;31mIndentationError\u001b[0m\u001b[0;31m:\u001b[0m unexpected indent\n"
          ]
        }
      ]
    }
  ]
}