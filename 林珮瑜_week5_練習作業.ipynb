{
  "nbformat": 4,
  "nbformat_minor": 0,
  "metadata": {
    "colab": {
      "name": "林珮瑜-week5-練習作業.ipynb",
      "provenance": [],
      "authorship_tag": "ABX9TyMIFSQqxAzi/qc5ciDhn8jl",
      "include_colab_link": true
    },
    "kernelspec": {
      "name": "python3",
      "display_name": "Python 3"
    },
    "language_info": {
      "name": "python"
    }
  },
  "cells": [
    {
      "cell_type": "markdown",
      "metadata": {
        "id": "view-in-github",
        "colab_type": "text"
      },
      "source": [
        "<a href=\"https://colab.research.google.com/github/A109010156/Computational-Thinking-and-Program-Design/blob/main/%E6%9E%97%E7%8F%AE%E7%91%9C_week5_%E7%B7%B4%E7%BF%92%E4%BD%9C%E6%A5%AD.ipynb\" target=\"_parent\"><img src=\"https://colab.research.google.com/assets/colab-badge.svg\" alt=\"Open In Colab\"/></a>"
      ]
    },
    {
      "cell_type": "markdown",
      "metadata": {
        "id": "-b90eWlx26jD"
      },
      "source": [
        "#課後練習"
      ]
    },
    {
      "cell_type": "code",
      "metadata": {
        "colab": {
          "base_uri": "https://localhost:8080/"
        },
        "id": "LcvTrCHP3Yfk",
        "outputId": "5ed1dbf4-7c91-4d15-82fc-77b2805b6b77"
      },
      "source": [
        "hello_py1=\"你好，我是珮瑜!\"\n",
        "hello_py2=\"hello，i am Bella!\"\n",
        "print(hello_py1)\n",
        "print(hello_py2)\n",
        "\n",
        "\n",
        "age_py1=\"我今年19歲~\"\n",
        "print(age_py1)"
      ],
      "execution_count": 5,
      "outputs": [
        {
          "output_type": "stream",
          "text": [
            "你好，我是珮瑜!\n",
            "hello，i am Bella!\n",
            "我今年19歲~\n"
          ],
          "name": "stdout"
        }
      ]
    },
    {
      "cell_type": "code",
      "metadata": {
        "id": "FVzWb3R5-X1g",
        "colab": {
          "base_uri": "https://localhost:8080/"
        },
        "outputId": "9d754bcc-e389-4229-b6a1-f118a7d032af"
      },
      "source": [
        "# print(\"一個人只要有夢想，生命就有了依託；一個人只有不懈地追逐著夢想，活著才覺得意義深遠，趣味無窮，也才能將生命的潛能發揮到極致。\")\n",
        "\n"
      ],
      "execution_count": 7,
      "outputs": [
        {
          "output_type": "stream",
          "text": [
            "一個人只要有夢想，生命就有了依託；一個人只有不懈地追逐著夢想，活著才覺得意義深遠，趣味無窮，也才能將生命的潛能發揮到極致。\n",
            "Hello, Francis\n",
            "Hello, Francis\n",
            "Hello, Francis\n"
          ],
          "name": "stdout"
        }
      ]
    },
    {
      "cell_type": "code",
      "metadata": {
        "colab": {
          "base_uri": "https://localhost:8080/"
        },
        "id": "qddo9OVQCAL3",
        "outputId": "a3a72841-5791-44f3-fb33-1c13b0b18fe0"
      },
      "source": [
        "name = \"大黃\"\n",
        "adjective = \"很有活力的\"\n",
        "favorite_snack = \"香蕉\"\n",
        "number = \"50\"\n",
        "type_of_tree = \"老榕樹\"\n",
        "\n",
        "silly_story = f\"\"\"\n",
        "Hi, my name is {\"大黃\"}.\n",
        "I really like {\"很有活力\"}{\"香蕉\"}!\n",
        "I like it so much, I try to eat it at least {\"50\" } times every day.\n",
        "It tastes even better when you eat it under a {\"老榕樹\"}!\n",
        "\"\"\"\n",
        "print(silly_story)"
      ],
      "execution_count": 11,
      "outputs": [
        {
          "output_type": "stream",
          "text": [
            "\n",
            "Hi, my name is 大黃.\n",
            "I really like 很有活力香蕉!\n",
            "I like it so much, I try to eat it at least 50 times every day.\n",
            "It tastes even better when you eat it under a 老榕樹!\n",
            "\n"
          ],
          "name": "stdout"
        }
      ]
    },
    {
      "cell_type": "code",
      "metadata": {
        "colab": {
          "base_uri": "https://localhost:8080/"
        },
        "id": "WJ5KwdAJEqAE",
        "outputId": "00938466-d9cc-4b33-c5ae-bec4a589fa2a"
      },
      "source": [
        "Sum = 0\n",
        "Appele =2\n",
        "Pear =1\n",
        "peach =3\n",
        "Banana =6 \n",
        "print(A+P+p+B) \n",
        "\n",
        "print(\"最後手中拿著的是香蕉皮\")"
      ],
      "execution_count": 31,
      "outputs": [
        {
          "output_type": "stream",
          "text": [
            "12\n",
            "最後手中拿著的是香蕉皮\n"
          ],
          "name": "stdout"
        }
      ]
    },
    {
      "cell_type": "code",
      "metadata": {
        "colab": {
          "base_uri": "https://localhost:8080/"
        },
        "id": "95zlW7cCHv2y",
        "outputId": "10541576-af28-44f7-8644-fc1ca9259c5b"
      },
      "source": [
        "print(156)\n",
        "print(15.6)\n",
        "\n",
        "hello_py1 = '老師您好，您辛苦了!'\n",
        "hello_py2 = \"世界真美好!\"\n",
        "print(hello_py1)\n",
        "print(hello_py2)\n",
        "\n",
        "es1 = \"You are a beautiful lady .\"\n",
        "es2 = \"You\\'re a gorgeous person.\"\n",
        "es3 = 'I\\'m a human.'\n",
        "print(es1, es2, es3)\n",
        "\n",
        "print(True)\n",
        "print(False)"
      ],
      "execution_count": 35,
      "outputs": [
        {
          "output_type": "stream",
          "text": [
            "156\n",
            "15.6\n",
            "老師您好，您辛苦了!\n",
            "世界真美好!\n",
            "You are a beautiful lady . You're a gorgeous person. I'm a human.\n",
            "True\n",
            "False\n"
          ],
          "name": "stdout"
        }
      ]
    }
  ]
}