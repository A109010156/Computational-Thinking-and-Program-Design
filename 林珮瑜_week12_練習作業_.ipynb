{
  "nbformat": 4,
  "nbformat_minor": 0,
  "metadata": {
    "colab": {
      "name": "林珮瑜-week12-練習作業_.ipynb",
      "provenance": [],
      "authorship_tag": "ABX9TyOnq1Y/dZypq1qtPWwKjVon",
      "include_colab_link": true
    },
    "kernelspec": {
      "name": "python3",
      "display_name": "Python 3"
    },
    "language_info": {
      "name": "python"
    }
  },
  "cells": [
    {
      "cell_type": "markdown",
      "metadata": {
        "id": "view-in-github",
        "colab_type": "text"
      },
      "source": [
        "<a href=\"https://colab.research.google.com/github/A109010156/Computational-Thinking-and-Program-Design/blob/main/%E6%9E%97%E7%8F%AE%E7%91%9C_week12_%E7%B7%B4%E7%BF%92%E4%BD%9C%E6%A5%AD_.ipynb\" target=\"_parent\"><img src=\"https://colab.research.google.com/assets/colab-badge.svg\" alt=\"Open In Colab\"/></a>"
      ]
    },
    {
      "cell_type": "code",
      "metadata": {
        "colab": {
          "base_uri": "https://localhost:8080/",
          "height": 131
        },
        "id": "3OLPLPb0uxCq",
        "outputId": "d43c9c91-ec7c-4b0b-a3d8-3137222249e9"
      },
      "source": [
        " raining = True\n",
        "if raining:\n",
        "print(\"外面濕濕的\")\n",
        "print(\"穿雨鞋\")\n",
        "print(\"帶雨傘\")"
      ],
      "execution_count": 2,
      "outputs": [
        {
          "output_type": "error",
          "ename": "IndentationError",
          "evalue": "ignored",
          "traceback": [
            "\u001b[0;36m  File \u001b[0;32m\"<ipython-input-2-f707409f014b>\"\u001b[0;36m, line \u001b[0;32m3\u001b[0m\n\u001b[0;31m    print(\"外面濕濕的\")\u001b[0m\n\u001b[0m        ^\u001b[0m\n\u001b[0;31mIndentationError\u001b[0m\u001b[0;31m:\u001b[0m expected an indented block\n"
          ]
        }
      ]
    },
    {
      "cell_type": "code",
      "metadata": {
        "colab": {
          "base_uri": "https://localhost:8080/",
          "height": 131
        },
        "id": "k0QsBbIXu-X3",
        "outputId": "80aefda3-e846-45f8-8ef7-1ecbda4ffa37"
      },
      "source": [
        "noodle = input(\"有麵嗎？ YES or NO: \")\n",
        "sauce = input(\"有醬料嗎？ YES or NO: \")\n",
        "\n",
        "if noodle==\"YES\" and sauce==\"YES\" \n",
        "print(\"今天晚上吃義大利麵\")"
      ],
      "execution_count": 4,
      "outputs": [
        {
          "output_type": "error",
          "ename": "SyntaxError",
          "evalue": "ignored",
          "traceback": [
            "\u001b[0;36m  File \u001b[0;32m\"<ipython-input-4-4c27f0a90bfe>\"\u001b[0;36m, line \u001b[0;32m4\u001b[0m\n\u001b[0;31m    if noodle==\"YES\" and sauce==\"YES\"\u001b[0m\n\u001b[0m                                      ^\u001b[0m\n\u001b[0;31mSyntaxError\u001b[0m\u001b[0;31m:\u001b[0m invalid syntax\n"
          ]
        }
      ]
    },
    {
      "cell_type": "code",
      "metadata": {
        "colab": {
          "base_uri": "https://localhost:8080/"
        },
        "id": "MOkEivPd5y3w",
        "outputId": "eeacb63c-02a8-4725-8665-f6af3ab03665"
      },
      "source": [
        "num=int(input(\"請輸入一個整數?\"))\n",
        "if num % 2 ==0:\n",
        "  print(num,\"為偶數\")\n",
        "else:\n",
        "  print(num,\"為奇數\")\n",
        "\n",
        "  "
      ],
      "execution_count": 7,
      "outputs": [
        {
          "output_type": "stream",
          "text": [
            "請輸入一個整數?5\n",
            "5 為奇數\n"
          ],
          "name": "stdout"
        }
      ]
    },
    {
      "cell_type": "code",
      "metadata": {
        "colab": {
          "base_uri": "https://localhost:8080/",
          "height": 131
        },
        "id": "0NT-QlgC0lNA",
        "outputId": "72fd1f43-ad54-4ba8-a7b6-b17a085364ab"
      },
      "source": [
        "##滿2000打九折\n",
        "cost=int(input(\"請輸入購買金額?\"))\n",
        "if cost >=2000:\n",
        "  print(cost*0.9)\n",
        "  else:\n",
        "    print(cost)\n"
      ],
      "execution_count": 6,
      "outputs": [
        {
          "output_type": "error",
          "ename": "SyntaxError",
          "evalue": "ignored",
          "traceback": [
            "\u001b[0;36m  File \u001b[0;32m\"<ipython-input-6-bb2fecbb6b4c>\"\u001b[0;36m, line \u001b[0;32m5\u001b[0m\n\u001b[0;31m    else:\u001b[0m\n\u001b[0m       ^\u001b[0m\n\u001b[0;31mSyntaxError\u001b[0m\u001b[0;31m:\u001b[0m invalid syntax\n"
          ]
        }
      ]
    }
  ]
}