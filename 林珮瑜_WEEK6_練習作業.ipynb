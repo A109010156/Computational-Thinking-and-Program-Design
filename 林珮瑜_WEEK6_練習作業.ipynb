{
  "nbformat": 4,
  "nbformat_minor": 0,
  "metadata": {
    "colab": {
      "name": "林珮瑜-WEEK6-練習作業.ipynb",
      "provenance": [],
      "authorship_tag": "ABX9TyPBF4VWFRSzf1a9Df0eTuDv",
      "include_colab_link": true
    },
    "kernelspec": {
      "name": "python3",
      "display_name": "Python 3"
    },
    "language_info": {
      "name": "python"
    }
  },
  "cells": [
    {
      "cell_type": "markdown",
      "metadata": {
        "id": "view-in-github",
        "colab_type": "text"
      },
      "source": [
        "<a href=\"https://colab.research.google.com/github/A109010156/Computational-Thinking-and-Program-Design/blob/main/%E6%9E%97%E7%8F%AE%E7%91%9C_WEEK6_%E7%B7%B4%E7%BF%92%E4%BD%9C%E6%A5%AD.ipynb\" target=\"_parent\"><img src=\"https://colab.research.google.com/assets/colab-badge.svg\" alt=\"Open In Colab\"/></a>"
      ]
    },
    {
      "cell_type": "code",
      "metadata": {
        "colab": {
          "base_uri": "https://localhost:8080/"
        },
        "id": "vi5C0Lg9XX4M",
        "outputId": "f4c44d88-5d00-4899-efd5-a5110fad7f38"
      },
      "source": [
        "int(\"87\")"
      ],
      "execution_count": 5,
      "outputs": [
        {
          "output_type": "execute_result",
          "data": {
            "text/plain": [
              "87"
            ]
          },
          "metadata": {
            "tags": []
          },
          "execution_count": 5
        }
      ]
    },
    {
      "cell_type": "code",
      "metadata": {
        "colab": {
          "base_uri": "https://localhost:8080/"
        },
        "id": "W1E7mToeYKSq",
        "outputId": "5ccc518a-1e6a-4888-d8e6-d4a23777b338"
      },
      "source": [
        "type(\"87\")"
      ],
      "execution_count": 4,
      "outputs": [
        {
          "output_type": "execute_result",
          "data": {
            "text/plain": [
              "str"
            ]
          },
          "metadata": {
            "tags": []
          },
          "execution_count": 4
        }
      ]
    },
    {
      "cell_type": "code",
      "metadata": {
        "id": "yZqg4A56oaLl"
      },
      "source": [
        ""
      ],
      "execution_count": null,
      "outputs": []
    },
    {
      "cell_type": "code",
      "metadata": {
        "colab": {
          "base_uri": "https://localhost:8080/"
        },
        "id": "-pTlXFs9YO2a",
        "outputId": "956583e0-6a19-42cf-8d70-ecad9d2fe697"
      },
      "source": [
        "a=87\n",
        "a=88\n",
        "a"
      ],
      "execution_count": 6,
      "outputs": [
        {
          "output_type": "execute_result",
          "data": {
            "text/plain": [
              "88"
            ]
          },
          "metadata": {
            "tags": []
          },
          "execution_count": 6
        }
      ]
    },
    {
      "cell_type": "code",
      "metadata": {
        "colab": {
          "base_uri": "https://localhost:8080/"
        },
        "id": "1ntS58nhZUYw",
        "outputId": "a75e3d38-70dc-473d-a505-0ee6b2403d86"
      },
      "source": [
        "a= input(\"Enter your numbur ? \")\n",
        "type(a)\n",
        "a= int(a)\n",
        "type(a)\n",
        "a+1"
      ],
      "execution_count": 11,
      "outputs": [
        {
          "output_type": "stream",
          "text": [
            "Enter your numbur ? 87\n"
          ],
          "name": "stdout"
        },
        {
          "output_type": "execute_result",
          "data": {
            "text/plain": [
              "88"
            ]
          },
          "metadata": {
            "tags": []
          },
          "execution_count": 11
        }
      ]
    },
    {
      "cell_type": "code",
      "metadata": {
        "colab": {
          "base_uri": "https://localhost:8080/",
          "height": 35
        },
        "id": "if1mY59Vactu",
        "outputId": "5ae481c1-eb87-499c-e947-8681fa387f2a"
      },
      "source": [
        "1+1\n",
        "\"1\"+\"1\""
      ],
      "execution_count": 13,
      "outputs": [
        {
          "output_type": "execute_result",
          "data": {
            "application/vnd.google.colaboratory.intrinsic+json": {
              "type": "string"
            },
            "text/plain": [
              "'11'"
            ]
          },
          "metadata": {
            "tags": []
          },
          "execution_count": 13
        }
      ]
    },
    {
      "cell_type": "code",
      "metadata": {
        "colab": {
          "base_uri": "https://localhost:8080/"
        },
        "id": "X547A1pecr_N",
        "outputId": "fb825289-dbb3-4581-f566-7dad195a62e1"
      },
      "source": [
        "bool(1)\n",
        "bool(0)\n",
        "bool(000)"
      ],
      "execution_count": 16,
      "outputs": [
        {
          "output_type": "execute_result",
          "data": {
            "text/plain": [
              "False"
            ]
          },
          "metadata": {
            "tags": []
          },
          "execution_count": 16
        }
      ]
    },
    {
      "cell_type": "code",
      "metadata": {
        "colab": {
          "base_uri": "https://localhost:8080/"
        },
        "id": "w13AOUG8d3OK",
        "outputId": "4950e2c5-5ca8-43e3-89b5-7a78a8ac9012"
      },
      "source": [
        "total = 0\n",
        "\n",
        "fruit= \" Apple \"\n",
        "number=2\n",
        "total= total + number\n",
        "#print(\"摘了\"，fruit，\"摘了\"，number，number\"個，總共摘了\"，total，\"個水果\")\n",
        "print(f\"摘了(fruit)、摘了{number}個，總共摘了{total}個水果\")\n",
        "\n",
        "fruit= \" Pear \"\n",
        "number=1\n",
        "total= total + number\n",
        "print(f\"摘了(fruit)、摘了{number}個，總共摘了{total}個水果\")\n",
        "\n",
        "\n",
        "fruit= \" Peach \"\n",
        "number=3\n",
        "total= total + number\n",
        "print(f\"摘了(fruit)、摘了{number}個，總共摘了{total}個水果\")\n"
      ],
      "execution_count": 29,
      "outputs": [
        {
          "output_type": "stream",
          "text": [
            "摘了(fruit)、摘了2個，總共摘了2個水果\n",
            "摘了(fruit)、摘了1個，總共摘了3個水果\n",
            "摘了(fruit)、摘了3個，總共摘了6個水果\n"
          ],
          "name": "stdout"
        }
      ]
    },
    {
      "cell_type": "code",
      "metadata": {
        "id": "0-K6nIL7i09E"
      },
      "source": [
        "name= input(\"請問貴姓大名?\")\n",
        "print(\"你好，bella\")"
      ],
      "execution_count": null,
      "outputs": []
    },
    {
      "cell_type": "code",
      "metadata": {
        "id": "04E7xkAcj1sj"
      },
      "source": [
        "weight=eval(input(\"請問體重?\"))\n",
        "type(weight)\n",
        "print(\"體重為\")"
      ],
      "execution_count": null,
      "outputs": []
    },
    {
      "cell_type": "code",
      "metadata": {
        "id": "HsDPEauckWry"
      },
      "source": [
        "\n",
        "radious=float(input(\"請輸入半徑?\"))\n",
        "PI=3.14159\n"
      ],
      "execution_count": null,
      "outputs": []
    }
  ]
}