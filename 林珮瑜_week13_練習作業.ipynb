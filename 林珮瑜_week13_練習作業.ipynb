{
  "nbformat": 4,
  "nbformat_minor": 0,
  "metadata": {
    "colab": {
      "name": "林珮瑜-week13-練習作業.ipynb",
      "provenance": [],
      "authorship_tag": "ABX9TyMYQENvdBxINo/npH17B77r",
      "include_colab_link": true
    },
    "kernelspec": {
      "name": "python3",
      "display_name": "Python 3"
    },
    "language_info": {
      "name": "python"
    }
  },
  "cells": [
    {
      "cell_type": "markdown",
      "metadata": {
        "id": "view-in-github",
        "colab_type": "text"
      },
      "source": [
        "<a href=\"https://colab.research.google.com/github/A109010156/Computational-Thinking-and-Program-Design/blob/main/%E6%9E%97%E7%8F%AE%E7%91%9C_week13_%E7%B7%B4%E7%BF%92%E4%BD%9C%E6%A5%AD.ipynb\" target=\"_parent\"><img src=\"https://colab.research.google.com/assets/colab-badge.svg\" alt=\"Open In Colab\"/></a>"
      ]
    },
    {
      "cell_type": "code",
      "metadata": {
        "colab": {
          "base_uri": "https://localhost:8080/",
          "height": 130
        },
        "id": "tbTXw1XpcVT5",
        "outputId": "4d2b56eb-4dd2-43be-ed6e-d91fe8b0b038"
      },
      "source": [
        "movie_title = input(\"請輸入電影名稱：\")\n",
        "movie_rating = input(\"請輸入電影評分：\")\n",
        "movie_rating = float(movie_rating)\n",
        "if movie_rating > 7:\n",
        "print(\"去電影院看{}\".format(movie_title))\n",
        "elif movie_rating > 6:\n",
        "print(\"在家裡看{}\".format(movie_title))\n",
        "else:\n",
        "print(\"不要看{}\".format(movie_title))"
      ],
      "execution_count": 1,
      "outputs": [
        {
          "output_type": "error",
          "ename": "IndentationError",
          "evalue": "ignored",
          "traceback": [
            "\u001b[0;36m  File \u001b[0;32m\"<ipython-input-1-df160a0ed37f>\"\u001b[0;36m, line \u001b[0;32m5\u001b[0m\n\u001b[0;31m    print(\"去電影院看{}\".format(movie_title))\u001b[0m\n\u001b[0m        ^\u001b[0m\n\u001b[0;31mIndentationError\u001b[0m\u001b[0;31m:\u001b[0m expected an indented block\n"
          ]
        }
      ]
    },
    {
      "cell_type": "code",
      "metadata": {
        "colab": {
          "base_uri": "https://localhost:8080/",
          "height": 130
        },
        "id": "LoIMcTUTg_zQ",
        "outputId": "bc94df63-9f37-4c5f-d392-61bfe0a0b9c4"
      },
      "source": [
        "user_int = input(\"請輸入一個正整數：\")\n",
        "user_int = int(user_int)\n",
        "if user_int % 2 == 0:\n",
        "ans = \"偶數，請星期二四六日領口罩\"\n",
        "if user_int % 2 == 1:\n",
        "ans = \"奇數，請星期一三五日領口罩\"\n",
        "print(ans)"
      ],
      "execution_count": 2,
      "outputs": [
        {
          "output_type": "error",
          "ename": "IndentationError",
          "evalue": "ignored",
          "traceback": [
            "\u001b[0;36m  File \u001b[0;32m\"<ipython-input-2-718e160b7fa1>\"\u001b[0;36m, line \u001b[0;32m4\u001b[0m\n\u001b[0;31m    ans = \"偶數，請星期二四六日領口罩\"\u001b[0m\n\u001b[0m      ^\u001b[0m\n\u001b[0;31mIndentationError\u001b[0m\u001b[0;31m:\u001b[0m expected an indented block\n"
          ]
        }
      ]
    },
    {
      "cell_type": "code",
      "metadata": {
        "id": "-aXUSxuahIs2"
      },
      "source": [
        "id_number = input(\"請輸入身分證字號：\")\n",
        "id_second_digit = id_number[1]\n",
        "if id_second_digit == '1':\n",
        "gender = \"Male\"\n",
        "else:\n",
        "gender = \"Female\"\n",
        "print(gender)"
      ],
      "execution_count": null,
      "outputs": []
    },
    {
      "cell_type": "code",
      "metadata": {
        "colab": {
          "base_uri": "https://localhost:8080/",
          "height": 130
        },
        "id": "0rm-xNEphMcH",
        "outputId": "72fbff1d-03e4-4fb5-cbc3-f8098c4e63d6"
      },
      "source": [
        "import random\n",
        "my = int(input(\"請出拳 [0] 剪刀 [1] 石頭 [2] 布\"))\n",
        "print(\"我出拳為\", my)\n",
        "computer = random.randint(0, 2)\n",
        "print(\"電腦出拳為\", computer)\n",
        "\n",
        "if my == 0:\n",
        "if computer == 0:\n",
        "print('平手')\n",
        "elif computer == 1:\n",
        "print('電腦獲勝')\n",
        "else:\n",
        "print('玩家獲勝')\n",
        "elif my == 1:\n",
        "if computer == 0:\n",
        "print('玩家獲勝')\n",
        "elif computer == 1:\n",
        "print('平手')\n",
        "else:\n",
        "print('電腦獲勝')\n",
        "else:\n",
        "if computer == 1:\n",
        "print('電腦獲勝')\n",
        "elif computer == 2:\n",
        "print('玩家獲勝')\n",
        "else:\n",
        "print('平手')"
      ],
      "execution_count": 3,
      "outputs": [
        {
          "output_type": "error",
          "ename": "IndentationError",
          "evalue": "ignored",
          "traceback": [
            "\u001b[0;36m  File \u001b[0;32m\"<ipython-input-3-0f76f2a5aadf>\"\u001b[0;36m, line \u001b[0;32m8\u001b[0m\n\u001b[0;31m    if computer == 0:\u001b[0m\n\u001b[0m     ^\u001b[0m\n\u001b[0;31mIndentationError\u001b[0m\u001b[0;31m:\u001b[0m expected an indented block\n"
          ]
        }
      ]
    }
  ]
}