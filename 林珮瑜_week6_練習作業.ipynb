{
  "nbformat": 4,
  "nbformat_minor": 0,
  "metadata": {
    "colab": {
      "name": "林珮瑜-week6-練習作業.ipynb",
      "provenance": [],
      "authorship_tag": "ABX9TyNY9XecNb1IVj3KLQtQ+TGy",
      "include_colab_link": true
    },
    "kernelspec": {
      "name": "python3",
      "display_name": "Python 3"
    },
    "language_info": {
      "name": "python"
    }
  },
  "cells": [
    {
      "cell_type": "markdown",
      "metadata": {
        "id": "view-in-github",
        "colab_type": "text"
      },
      "source": [
        "<a href=\"https://colab.research.google.com/github/A109010156/Computational-Thinking-and-Program-Design/blob/main/%E6%9E%97%E7%8F%AE%E7%91%9C_week6_%E7%B7%B4%E7%BF%92%E4%BD%9C%E6%A5%AD.ipynb\" target=\"_parent\"><img src=\"https://colab.research.google.com/assets/colab-badge.svg\" alt=\"Open In Colab\"/></a>"
      ]
    },
    {
      "cell_type": "code",
      "metadata": {
        "colab": {
          "base_uri": "https://localhost:8080/"
        },
        "id": "TJcY9KusCkvH",
        "outputId": "353d736f-7ade-44db-dc13-dad1f84c2eea"
      },
      "source": [
        "## Input\n",
        "radius = float(input('請輸入半徑？'))\n",
        "PI = 3.14159\n",
        "## Process\n",
        "circumference = 2 * PI * radius\n",
        "area = radius * radius * PI\n",
        "## Output\n",
        "print(f'圓周長為 {circumference}， 圓面積為 {area}。')"
      ],
      "execution_count": 2,
      "outputs": [
        {
          "output_type": "stream",
          "text": [
            "請輸入半徑？947859845\n",
            "圓周長為 5955574020.9071， 圓面積為 2.822524734171515e+18。\n"
          ],
          "name": "stdout"
        }
      ]
    },
    {
      "cell_type": "code",
      "metadata": {
        "id": "G5mTkBmv79rn",
        "colab": {
          "base_uri": "https://localhost:8080/"
        },
        "outputId": "a9799bcf-1df9-48d9-dc2a-37369738d7d1"
      },
      "source": [
        "## Input\n",
        "radius = float(input('請輸入外圓直徑r1？'))\n",
        "radius2 = float(input('請輸入內圓直徑r2? '))\n",
        "PI = 3.14159\n",
        "## Process\n",
        "area = PI * (radius *radius - radius2 * radius2)\n",
        "## Output\n",
        "print(f' 圓環面積為 {area}。')"
      ],
      "execution_count": 3,
      "outputs": [
        {
          "output_type": "stream",
          "text": [
            "請輸入外圓直徑r1？8\n",
            "請輸入內圓直徑r2? 6\n",
            " 圓環面積為 87.96452。\n"
          ],
          "name": "stdout"
        }
      ]
    }
  ]
}