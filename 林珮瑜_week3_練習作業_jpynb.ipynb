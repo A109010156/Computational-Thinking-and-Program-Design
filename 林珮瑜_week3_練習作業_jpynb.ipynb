{
  "nbformat": 4,
  "nbformat_minor": 0,
  "metadata": {
    "colab": {
      "name": "林珮瑜-week3-練習作業.jpynb",
      "provenance": [],
      "toc_visible": true,
      "authorship_tag": "ABX9TyPpEvhccSGM/ZNwfy37OjGY",
      "include_colab_link": true
    },
    "kernelspec": {
      "name": "python3",
      "display_name": "Python 3"
    }
  },
  "cells": [
    {
      "cell_type": "markdown",
      "metadata": {
        "id": "view-in-github",
        "colab_type": "text"
      },
      "source": [
        "<a href=\"https://colab.research.google.com/github/A109010156/Computational-Thinking-and-Program-Design/blob/main/%E6%9E%97%E7%8F%AE%E7%91%9C_week3_%E7%B7%B4%E7%BF%92%E4%BD%9C%E6%A5%AD_jpynb.ipynb\" target=\"_parent\"><img src=\"https://colab.research.google.com/assets/colab-badge.svg\" alt=\"Open In Colab\"/></a>"
      ]
    },
    {
      "cell_type": "markdown",
      "metadata": {
        "id": "z6K1rk6mOGJT"
      },
      "source": [
        "#隨堂練習"
      ]
    },
    {
      "cell_type": "markdown",
      "metadata": {
        "id": "Gl5TAjT5Oe_S"
      },
      "source": [
        "單元摘要1-1:透過電腦處理能使生活更便利"
      ]
    },
    {
      "cell_type": "markdown",
      "metadata": {
        "id": "DAbtygXzUOJ7"
      },
      "source": [
        "1-2.:運用電腦替我們工作展現運算思維與程式設計能力,將解決問題的演算法程式寫出來。\r\n",
        "讓電腦依照指令替我們工作,完成「用電腦解決問題」的任務。"
      ]
    },
    {
      "cell_type": "markdown",
      "metadata": {
        "id": "9iWlo-s8Uynx"
      },
      "source": [
        "1-3.電腦硬體的基本組成包括四個單元:\r\n",
        "輸入單元 (input unit):~輸入單元的主要任務是將待處理的外界資料,或程式傳送到記憶體內部。\r\n",
        "\r\n",
        "處理單元 (processing unit):控制單元和算術與邏輯單元所組成的微處理器,稱為中央處理器,就是大家熟悉的CPU。\r\n",
        "\r\n",
        "記憶單元 (memory unit):記憶單元可以分為兩類,一種是主記憶體,負責存放正在處理的程式和資料,例如隨機存取記憶體RAM。另一種是輔助記憶體,用來存放所有程式和資料,例如硬碟、光碟、USB等。\r\n",
        "\r\n",
        "輸出單元 (output unit):輸出裝置的主要任務是將處理過的結果。"
      ]
    },
    {
      "cell_type": "markdown",
      "metadata": {
        "id": "nTTsOs-4bdAK"
      },
      "source": [
        "1-3-2.電腦軟體\r\n",
        "\r\n",
        "1. 系統軟體 (system software):管理電腦內各種硬體單元必備的程式,負責做硬體與軟體間溝通的橋樑,支援電腦運作的程式,包括作業系統 (operating system)、公用程式(utility)、程式開發工具 (program development tool)。\r\n",
        "\r\n",
        "2. 應用軟體 (application software): 針對特定事務或工作所撰寫的程式,是因應用戶需求而設計的程式,來完成特定的工作,目的是協助使用解決問題。\r\n",
        "\r\n",
        "常見的作業系統:(1) Linux系統 (2) Windows系統 (3)MAC系統\r\n"
      ]
    },
    {
      "cell_type": "markdown",
      "metadata": {
        "id": "0QeZK21jckPv"
      },
      "source": [
        "1-4 電腦軟硬體都是以「輸入-處理-輸出」為架構。\r\n",
        "~程式設計是要用電腦寫指令來解決問題,撰寫解決問題的程式時,需要輸入資料,然後處理資\r\n",
        "料,最後輸出結果。\r\n",
        "輸入 (input)\r\n",
        "輸出 (output)\r\n",
        "處理 (process)\r\n",
        "明確性 (definiteness)\r\n",
        "有效性 (effectiveness)\r\n",
        "有限性 (finiteness)"
      ]
    },
    {
      "cell_type": "markdown",
      "metadata": {
        "id": "UY85T_wTczve"
      },
      "source": [
        "2. 程式語言:0與1就是電腦唯一會說的話。電腦只需要利用零和一這兩種數字,就可以處理很多的問題喔。\r\n",
        "程式語言(program language)是人和電腦溝通的媒介,透過它命令電腦工作,達成我們想要完成的任務,這些指令的集合就是程式。也就是說,程式語言是用來撰寫程式的語言,是用來向電腦發出指令,讓程式設計師能夠準確地定義電腦所需要使用的資料,並精確地定義在不同情況下所應當採取的行動。\r\n",
        "\r\n",
        "何謂程式設計:程式設計就是把你希望電腦做的事情,用程式語言寫出來,這些指令就叫「程式」(program)或「程式碼」(code)。"
      ]
    },
    {
      "cell_type": "markdown",
      "metadata": {
        "id": "D88PW7dPdQh1"
      },
      "source": [
        "3. 運算思維:運算思維是一種思考過程。因此,(1)培養運算思維能訓練邏輯思考、提升問題解決能力。(2)學習運算思維也有助於了解電腦的運作模式。 (3)有了這些知識,你就更能有效運用科技解決問題。\r\n",
        "\r\n",
        "3-2. 運算思維的四個基石:問題拆解 => 模式辨識 => 抽象化 => 演算法\r\n",
        "\r\n"
      ]
    },
    {
      "cell_type": "markdown",
      "metadata": {
        "id": "ImMPJKDHd5t3"
      },
      "source": [
        "4-1 用電腦解決問題的四個階段\r\n",
        "階段一:Analysis - 運算思維。\r\n",
        "階段二 : Design - 程式設計。\r\n",
        "階段三:Coding - 撰寫程式。\r\n",
        "階段四:Testing - 測試與除錯。\r\n",
        "\r\n",
        "Step1: 運算思維 - Problem Analysis\r\n",
        "問題分析分成瞭解問題(發現問題、定義問題與目的)與解決問題。\r\n",
        "(1)瞭解問題:Clearly Understand the Proble\r\n",
        "\r\n",
        "(2)如何解決問題:Know what Constitutes a Solution\r\n"
      ]
    },
    {
      "cell_type": "markdown",
      "metadata": {
        "id": "lUnYPjyION62"
      },
      "source": [
        "#課後練習"
      ]
    },
    {
      "cell_type": "markdown",
      "metadata": {
        "id": "rO-6R0hcVzNZ"
      },
      "source": [
        "新聞系學習運算思維與程式設計，主要是需要培養邏輯思考的能力以及學習如何運動電腦解決問題。透過運算設計思維可以訓練學生找到答案技巧的過程，加強把大問題拆解成小問題的能力，有助於對未來在面對問題時有適當的方法可以有效率的迎刃而解。\r\n",
        "\r\n",
        "https://news.ltn.com.tw/news/life/breakingnews/2702467"
      ]
    },
    {
      "cell_type": "markdown",
      "metadata": {
        "id": "AJrO5axXOhPp"
      },
      "source": [
        ""
      ]
    }
  ]
}