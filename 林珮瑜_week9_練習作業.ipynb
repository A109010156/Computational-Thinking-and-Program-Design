{
  "nbformat": 4,
  "nbformat_minor": 0,
  "metadata": {
    "colab": {
      "name": "林珮瑜-week9-練習作業.ipynb",
      "provenance": [],
      "authorship_tag": "ABX9TyOSyiDi2gFO1VmWmuTVlnEH",
      "include_colab_link": true
    },
    "kernelspec": {
      "name": "python3",
      "display_name": "Python 3"
    },
    "language_info": {
      "name": "python"
    }
  },
  "cells": [
    {
      "cell_type": "markdown",
      "metadata": {
        "id": "view-in-github",
        "colab_type": "text"
      },
      "source": [
        "<a href=\"https://colab.research.google.com/github/A109010156/Computational-Thinking-and-Program-Design/blob/main/%E6%9E%97%E7%8F%AE%E7%91%9C_week9_%E7%B7%B4%E7%BF%92%E4%BD%9C%E6%A5%AD.ipynb\" target=\"_parent\"><img src=\"https://colab.research.google.com/assets/colab-badge.svg\" alt=\"Open In Colab\"/></a>"
      ]
    },
    {
      "cell_type": "code",
      "metadata": {
        "colab": {
          "base_uri": "https://localhost:8080/"
        },
        "id": "LfC9S-ATfT0Z",
        "outputId": "907e54ba-8f62-4104-c8d9-ec4d26cdfa21"
      },
      "source": [
        "sum = 0\n",
        "sum = sum + (6*60 + 32)\n",
        "print(\"用時\",sum//60,\"分\",sum%60,sum%60,\"秒\")\n",
        "\n",
        "sum = sum + (7*60 + 21)\n",
        "print(\"用時\",sum//60,\"分\",sum%60,sum%60,\"秒\")\n",
        "\n",
        "sum = sum + (5*60 + 51)\n",
        "print(\"用時\",sum//60,\"分\",sum%60,sum%60,\"秒\")\n",
        "\n",
        "sum = sum + (7*60 + 3)\n",
        "print(\"用時\",sum//60,\"分\",sum%60,sum%60,\"秒\")\n",
        "\n",
        "sum = sum + (5*60 + 48)\n",
        "print(\"用時\",sum//60,\"分\",sum%60,sum%60,\"秒\")"
      ],
      "execution_count": 1,
      "outputs": [
        {
          "output_type": "stream",
          "text": [
            "用時 6 分 32 32 秒\n",
            "用時 13 分 53 53 秒\n",
            "用時 19 分 44 44 秒\n",
            "用時 26 分 47 47 秒\n",
            "用時 32 分 35 35 秒\n"
          ],
          "name": "stdout"
        }
      ]
    },
    {
      "cell_type": "code",
      "metadata": {
        "colab": {
          "base_uri": "https://localhost:8080/"
        },
        "id": "To3rl8V7jkwW",
        "outputId": "4c4fbfa6-b1a0-451f-dd75-f278c4320d33"
      },
      "source": [
        "In [5]: # 將123分鐘轉成2小時3分鐘\n",
        "## 1. 建立變數,輸入資料並儲存\n",
        "time = 123\n",
        "\n",
        "## 2. 方法(一)\n",
        " ## 變數轉換為小時數\n",
        "hours = time/60 # 123/60 = 2.05\n",
        "hours1 = int(hours) #取整數為「時」\n",
        "\n",
        "## 取得轉換後的分鐘數\n",
        "minutes = hours1 - hours #2.05-2 = 0.05\n",
        "minutes1 = round(minutes*60) # 0.05*60 = 3,但要四捨五入\n",
        "\n",
        " ## 3. 顯示結果\n",
        "print(time, \"is equal to\", hours1, \"Hours and\", minutes1,\"Minutes\")\n"
      ],
      "execution_count": 3,
      "outputs": [
        {
          "output_type": "stream",
          "text": [
            "123 is equal to 2 Hours and -3 Minutes\n"
          ],
          "name": "stdout"
        }
      ]
    },
    {
      "cell_type": "code",
      "metadata": {
        "colab": {
          "base_uri": "https://localhost:8080/"
        },
        "id": "efeARR6Jk4Gd",
        "outputId": "571c439e-5f62-4f1a-addd-1f4d075519b6"
      },
      "source": [
        "In [6]: # 1. 建立變數,輸入資料並儲存\n",
        "...: time = 123\n",
        "...:\n",
        "...: # 2. 方法(二)運算子\n",
        "...: hours2 = time // 60 #商數為小時數\n",
        "...: minutes2 = time % 60 #餘數為分鐘數\n",
        "...:\n",
        "...: # 3. 顯示結果\n",
        "...: print(time, \"is equal to\", hours2, \"Hours and\", minutes2,\n",
        "\"Minutes\")\n"
      ],
      "execution_count": 4,
      "outputs": [
        {
          "output_type": "stream",
          "text": [
            "123 is equal to 2 Hours and 3 Minutes\n"
          ],
          "name": "stdout"
        }
      ]
    },
    {
      "cell_type": "code",
      "metadata": {
        "colab": {
          "base_uri": "https://localhost:8080/"
        },
        "id": "Gy93bHMMk8vE",
        "outputId": "dc542fb9-fa26-4e99-8fad-6f6f07ff5548"
      },
      "source": [
        "seats = int(input('請輸入座號？')) #文字轉數字\n",
        "groups = (seats - 1)//5 + 1\n",
        "print('組別為', groups)"
      ],
      "execution_count": 5,
      "outputs": [
        {
          "output_type": "stream",
          "text": [
            "請輸入座號？5\n",
            "組別為 1\n"
          ],
          "name": "stdout"
        }
      ]
    },
    {
      "cell_type": "code",
      "metadata": {
        "colab": {
          "base_uri": "https://localhost:8080/",
          "height": 135
        },
        "id": "NykQQ3a1lCgT",
        "outputId": "b26a8654-e6aa-423d-a810-f1924b85e4be"
      },
      "source": [
        "In [1]: ## 1.聊天機器人自我介紹\n",
        "print(\"哈囉，大家好。我叫Zyxo64，是一個聊天機器人。\")\n",
        "hobby = (\"我很喜歡美食東西，也喜歡養動物。今天很高興有機會來到世新大學，請大家多多指教。\")\n",
        "print( hobby )\n",
        "\n",
        "In [2]: ## 2. 打招呼，取得對方名字\n",
        "name = input(\"嗨！妳好，請問大名？: \")\n",
        "print(\"你好\", name, \"很高興認識你\")\n",
        "\n",
        "In [3]: ## 3. 數學運算\n",
        "## 3-1 從使用者取得今年年份\n",
        "year = input(\"請問一下今年是西元2021年，那是民國幾年呢？ \")\n",
        "print(\"對！應該沒錯，謝謝妳！\")\n",
        "\n",
        "In [4]: ## 3-2 請使用者猜年齡\n",
        " myage = int(input(\"Francis，猜猜看我今年幾歲？ \"))\n",
        "print(\"哇！你好聰明，我今年的確\", myage)\n",
        "\n",
        "In [5]: ## 3-3 計算聊天機器人滿100歲的年份\n",
        " nyears = 100 - myage\n",
        "print(\"我再\", nyears, \"年就滿100歲了。\")\n",
        "\n",
        " print(\"到時候是西元\", int(year) + nyears + 1911, \"年\") # 將今年年份轉換\n",
        "為整數\n",
        "...: print(\"也就是民國\", int(year) + nyears, \"年\") # 民國幾年\n",
        "In [6]: ## 4 興趣\n",
        " ## 4-1 食物話題\n",
        "print(\"我喜歡巧克力，也喜歡嘗試各種新食物。\")\n",
        "food = input(\"你呢。你最喜歡的食物是什麼？： \")\n",
        "print(\"我也喜歡\", food)\n",
        "question = \"你多久吃一次\" + food + \"?: \"\n",
        "howoften = input(question)\n",
        "print(\"真有趣。不知道這樣對健康好不好！\")\n",
        "In [7]: ## 4-2 動物話題\n",
        "animal = input(\"我最喜歡的動物是長頸鹿。你呢？； \")\n",
        "print(\"我不喜歡\", animal)\n",
        "print(\"不知道\", animal, \"喜不喜歡吃\", food, \"?\")\n",
        "In [8]: ## 5. 關於心情的對話\n",
        "feeling = input(\"你今天心情如何？； \")\n",
        "print(\"可以告訴我，你\", feeling, \"的原因。 \")\n",
        "reason = input(\"為什麼： \")\n",
        "print(\"我知道了。謝謝分享。\")\n",
        "In [ 9]: ## 6. 道別\n",
        "print(\"祝你週末愉快！\")\n",
        "print(\"我喜歡跟你聊天，現在有點累了，下次再聊!!\")\n",
        "print(\"再見\", name, \"我喜歡跟你聊天！\")"
      ],
      "execution_count": 7,
      "outputs": [
        {
          "output_type": "error",
          "ename": "IndentationError",
          "evalue": "ignored",
          "traceback": [
            "\u001b[0;36m  File \u001b[0;32m\"<ipython-input-7-7ecd1e4ea92e>\"\u001b[0;36m, line \u001b[0;32m16\u001b[0m\n\u001b[0;31m    myage = int(input(\"Francis，猜猜看我今年幾歲？ \"))\u001b[0m\n\u001b[0m    ^\u001b[0m\n\u001b[0;31mIndentationError\u001b[0m\u001b[0;31m:\u001b[0m unexpected indent\n"
          ]
        }
      ]
    }
  ]
}