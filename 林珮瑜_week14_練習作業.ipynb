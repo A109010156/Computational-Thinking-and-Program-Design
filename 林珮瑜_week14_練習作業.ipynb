{
  "nbformat": 4,
  "nbformat_minor": 0,
  "metadata": {
    "colab": {
      "name": "林珮瑜-week14-練習作業.ipynb",
      "provenance": [],
      "authorship_tag": "ABX9TyNn8V9E3PyXAwEt1SU4xx7G",
      "include_colab_link": true
    },
    "kernelspec": {
      "name": "python3",
      "display_name": "Python 3"
    },
    "language_info": {
      "name": "python"
    }
  },
  "cells": [
    {
      "cell_type": "markdown",
      "metadata": {
        "id": "view-in-github",
        "colab_type": "text"
      },
      "source": [
        "<a href=\"https://colab.research.google.com/github/A109010156/Computational-Thinking-and-Program-Design/blob/main/%E6%9E%97%E7%8F%AE%E7%91%9C_week14_%E7%B7%B4%E7%BF%92%E4%BD%9C%E6%A5%AD.ipynb\" target=\"_parent\"><img src=\"https://colab.research.google.com/assets/colab-badge.svg\" alt=\"Open In Colab\"/></a>"
      ]
    },
    {
      "cell_type": "code",
      "metadata": {
        "id": "O7lu3Dj5vnNz"
      },
      "source": [
        "tem = float(input(\"your temperature?\"))\n",
        "\n",
        "if tem < 36:\n",
        "  print(\"Too low\")\n",
        "\n",
        "elif tem < 38:\n",
        "  print(\"Normal\")\n",
        "\n",
        "elif tem < 39:\n",
        "  print(\"Hight\")\n",
        "  \n",
        "else:\n",
        "  print(\"HOT\")\n"
      ],
      "execution_count": null,
      "outputs": []
    },
    {
      "cell_type": "code",
      "metadata": {
        "id": "7p3IVv80-aev"
      },
      "source": [
        "my = int(input(\"請出拳 [0] 剪刀 [1] 石頭 [2] 布\"))\n",
        "print(\"我出拳為\", my)\n",
        "import random # 載入random模組\n",
        "computer = random.randint(0, 2) # 使用random模組中的函數randint()\n",
        "print(\"電腦出拳為\", computer)\n",
        "if my == 0:\n",
        "if computer == 0:\n",
        "print('平手')\n",
        "elif computer == 1:\n",
        "print('電腦獲勝')\n",
        "else:\n",
        "print('玩家獲勝')\n",
        "elif my == 1:\n",
        "if computer == 0:\n",
        "print('玩家獲勝')\n",
        "elif computer == 1:\n",
        "print('平手')\n",
        "else:\n",
        "print('電腦獲勝')\n",
        "else:\n",
        "if computer == 1:\n",
        "print('電腦獲勝')\n",
        "elif computer == 2:\n",
        "print('玩家獲勝')\n",
        "else:\n",
        "print('平手')\n"
      ],
      "execution_count": null,
      "outputs": []
    }
  ]
}