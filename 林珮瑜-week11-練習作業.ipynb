{
  "nbformat": 4,
  "nbformat_minor": 0,
  "metadata": {
    "colab": {
      "name": ".ipynb",
      "provenance": [],
      "authorship_tag": "ABX9TyOC85yaVqeLmYqMoRKHwY91",
      "include_colab_link": true
    },
    "kernelspec": {
      "name": "python3",
      "display_name": "Python 3"
    },
    "language_info": {
      "name": "python"
    }
  },
  "cells": [
    {
      "cell_type": "markdown",
      "metadata": {
        "id": "view-in-github",
        "colab_type": "text"
      },
      "source": [
        "<a href=\"https://colab.research.google.com/github/A109010156/Computational-Thinking-and-Program-Design/blob/main/%E6%9E%97%E7%8F%AE%E7%91%9C-week11-%E7%B7%B4%E7%BF%92%E4%BD%9C%E6%A5%AD.ipynb\" target=\"_parent\"><img src=\"https://colab.research.google.com/assets/colab-badge.svg\" alt=\"Open In Colab\"/></a>"
      ]
    },
    {
      "cell_type": "code",
      "metadata": {
        "colab": {
          "base_uri": "https://localhost:8080/"
        },
        "id": "z4wA3FRTkSUD",
        "outputId": "33d33fec-e782-4721-dfba-6d2a6358a061"
      },
      "source": [
        "##Input\n",
        "\n",
        "number = input(\"Enter the last digit of ID card\")\n",
        "number = int(number)\n",
        "##Process\n",
        "print(number % 2==1)\n",
        "\n",
        "\n",
        "## Output\n",
        "print(\"身分證尾數除以2的餘數是否為一\")\n"
      ],
      "execution_count": 7,
      "outputs": [
        {
          "output_type": "stream",
          "text": [
            "Enter the last digit of ID card5754\n",
            "False\n",
            "身分證尾數除以2的餘數是否為一\n"
          ],
          "name": "stdout"
        }
      ]
    },
    {
      "cell_type": "code",
      "metadata": {
        "id": "MrNpXurnsqlx"
      },
      "source": [
        "組員:林珮瑜A109010156 賴沛菁A109010138 柯又甄A109010084\n",
        "組長:賴沛菁\n",
        "題目:心靈雞湯機器人"
      ],
      "execution_count": null,
      "outputs": []
    }
  ]
}